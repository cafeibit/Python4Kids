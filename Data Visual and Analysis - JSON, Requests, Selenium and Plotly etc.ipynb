{
 "cells": [
  {
   "cell_type": "markdown",
   "metadata": {},
   "source": [
    "## Download with JSON format to analysis and visulaization\n",
    "\n",
    "> In this section, we’ll download a data set by Python <b>Requests/Selenium</b>. Because the data is stored in the JSON format, we’ll work with it using the json module. Using <b>Plotly</b>’s beginner-friendly mapping tool for data, we’ll create visualizations that clearly show the interesting things. Note: Many geospatial frameworks list the longitude first and then the latitude, because this corresponds to the (x, y) convention we use in mathematical representations. The geoJSON format follows the (longitude, latitude) convention."
   ]
  },
  {
   "cell_type": "code",
   "execution_count": 1,
   "metadata": {},
   "outputs": [
    {
     "name": "stdout",
     "output_type": "stream",
     "text": [
      "https://img3.doubanio.com/view/celebrity/s_ratio_celebrity/public/p20703.webp\t吕晶晶 Ching-ching Lui\n",
      "https://img3.doubanio.com/view/photo/s_ratio_poster/public/p2349265470.webp\t咖啡-改变美国的饮料 Coffee: The Drink That Changed America‎ (2016)\n",
      "https://img9.doubanio.com/view/photo/s_ratio_poster/public/p958678356.webp\t咖啡 Coffee‎ (2004)\n",
      "https://img3.doubanio.com/view/subject/l/public/s25799961.jpg\t现代奇迹系列之咖啡 Modern Marvels: Coffee‎ (2005)\n",
      "https://img9.doubanio.com/view/photo/s_ratio_poster/public/p1829212604.webp\t上帝不是咖啡色 Coffee‎ (2003)\n",
      "https://img1.doubanio.com/view/subject/l/public/s4070809.jpg\tCoffee‎ (2004)\n",
      "https://img9.doubanio.com/view/photo/s_ratio_poster/public/p2198936206.webp\tCafé‎ (2014)\n",
      "https://img9.doubanio.com/view/subject/l/public/s25339736.jpg\t咖啡 Koffie‎ (2012)\n",
      "https://img3.doubanio.com/f/movie/30c6263b6db26d055cbbe73fe653e29014142ea3/pics/movie/movie_default_large.png\tKoffie‎ (2012)\n",
      "https://img3.doubanio.com/view/photo/s_ratio_poster/public/p2548783123.webp\t走进工厂：咖啡 Inside the Factory:Coffee‎ (2018)\n",
      "https://img3.doubanio.com/f/movie/30c6263b6db26d055cbbe73fe653e29014142ea3/pics/movie/movie_default_large.png\tCoffee‎ (2009)\n",
      "https://img3.doubanio.com/view/photo/s_ratio_poster/public/p462534831.webp\t咖啡与香烟 Coffee and Cigarettes‎ (2003)\n",
      "https://img1.doubanio.com/view/photo/s_ratio_poster/public/p2367627257.webp\t格林 第六季 Grimm Season 6‎ (2017)\n",
      "https://img3.doubanio.com/view/photo/s_ratio_poster/public/p2199995401.webp\t格林 第四季 Grimm Season 4‎ (2014)\n",
      "https://img3.doubanio.com/view/photo/s_ratio_poster/public/p2252116041.webp\t格林 第五季 Grimm Season 5‎ (2015)\n",
      "https://img3.doubanio.com/view/photo/s_ratio_poster/public/p2560726593.webp\t咖啡遇上香草 コーヒー＆バニラ‎ (2019)\n"
     ]
    }
   ],
   "source": [
    "# coding:utf-8\n",
    "\n",
    "import requests\n",
    "import json\n",
    "import os\n",
    "from lxml import etree\n",
    "from selenium import webdriver\n",
    "\n",
    "query = 'Coffee'\n",
    "downloadPath = './testimages/'\n",
    "        \n",
    "# Download Pics\n",
    "def download(src, id):\n",
    "    dir = downloadPath + str(id) + '.jpg'\n",
    "    try:\n",
    "        pic = requests.get(src, timeout=10)\n",
    "    except requests.exceptions.ConnectionError:\n",
    "        # print 'error, %d current pictures can not be downloaded, %id\n",
    "        print('Pics can not download')\n",
    "    if not os.path.isdir(downloadPath):  # if not os.path.exists(downloadPath)\n",
    "        os.mkdir(downloadPath)\n",
    "    if os.path.exists(dir):\n",
    "        print('Existed'+id)\n",
    "        return\n",
    "    fp = open(dir,'wb')\n",
    "    fp.write(pic.content)\n",
    "    fp.close()  \n",
    "    \n",
    "def searchImages():\n",
    "    # for loop to search url\n",
    "    for i in range(0, 900, 20):\n",
    "        url = 'https://www.douban.com/j/search_photo?q='+query+'&limit=20&start='+str(i)\n",
    "        html = requests.get(url).text # Requrest result\n",
    "        print('html:'+html)\n",
    "        response = json.loads(html,encoding='utf-8') # To JSON format Python readable object\n",
    "        for image in response['images']:\n",
    "            print(image['src']) # Check the current image\n",
    "            download(image['src'], image['id']) # Download next image\n",
    "            \n",
    "def getMovieImages():\n",
    "    url = 'https://movie.douban.com/subject_search?search_text='+ query +'&cat=1002'\n",
    "    driver = webdriver.Chrome('/Users/injoy/mydev/python/xpath/chromedriver')\n",
    "    driver.get(url)\n",
    "    html = etree.HTML(driver.page_source)\n",
    "    # To use xpath helper, ctrl+shit+x to select elements if matched all revised query\n",
    "    src_xpath = \"//div[@class='item-root']/a[@class='cover-link']/img[@class='cover']/@src\"\n",
    "    title_xpath = \"//div[@class='item-root']/div[@class='detail']/div[@class='title']/a[@class='title-text']\"\n",
    "    \n",
    "    srcs = html.xpath(src_xpath)\n",
    "    titles = html.xpath(title_xpath)\n",
    "    for src, title in zip(srcs, titles):\n",
    "        print('\\t'.join([str(src),str(title.text)]))\n",
    "        download(src, title.text)\n",
    "    driver.close()\n",
    "\n",
    "getMovieImages()"
   ]
  },
  {
   "cell_type": "markdown",
   "metadata": {},
   "source": [
    "### JSON foramt earthquakes data analysis\n",
    ">  Downloaded a data set representing all the earthquakes with json format that have occurred in the world during the previous month. Then you’ll make a map showing the location of these earthquakes and how significant each one was. Because the data is stored in the JSON format, we’ll work with it using the json module. Using Plotly’s beginner-friendly mapping tool for location-based data, you’ll create visualizations that clearly show the global distribution of earthquakes. The json module provides a variety of tools for exploring and working with JSON data. Some of these tools will help us reformat the file so we can look at the raw data more easily before we begin to work with it programmatically. The <code>json.load()</code> function converts the data into a format Python can work with: in this case, a giant dictionary. At we create a file to write this same data into a\n",
    "more readable format. The <code>json.dump()</code> function takes a JSON data object and a file object, and writes the data to that file. The indent=4 argument tells dump() to format the data using indentation that matches the data’s structure. This <b>geoJSON</b> file has a structure that’s helpful for location-based data. The information is stored in a list associated with the key \"features\"."
   ]
  },
  {
   "cell_type": "code",
   "execution_count": 2,
   "metadata": {},
   "outputs": [
    {
     "data": {
      "text/plain": [
       "'global_earthquakes.html'"
      ]
     },
     "execution_count": 2,
     "metadata": {},
     "output_type": "execute_result"
    }
   ],
   "source": [
    "import json\n",
    "\n",
    "from plotly.graph_objs import Scattergeo, Layout\n",
    "from plotly import offline\n",
    "\n",
    "# Explore the structure of the data.\n",
    "filename = 'data/JSON/eq_data_30_day_m1.json'\n",
    "with open(filename) as f:\n",
    "    all_eq_data = json.load(f)\n",
    "\n",
    "all_eq_dicts = all_eq_data['features']\n",
    "\n",
    "mags, lons, lats, hover_texts = [], [], [], []\n",
    "for eq_dict in all_eq_dicts:\n",
    "    mag = eq_dict['properties']['mag']\n",
    "    lon = eq_dict['geometry']['coordinates'][0]\n",
    "    lat = eq_dict['geometry']['coordinates'][1]\n",
    "    title = eq_dict['properties']['title']\n",
    "    mags.append(mag)\n",
    "    lons.append(lon)\n",
    "    lats.append(lat)\n",
    "    hover_texts.append(title)\n",
    "\n",
    "# Map the earthquakes.\n",
    "data = [{\n",
    "    'type': 'scattergeo',\n",
    "    'lon': lons,\n",
    "    'lat': lats,\n",
    "    'text': hover_texts,\n",
    "    'marker': {\n",
    "        'size': [5*mag for mag in mags],\n",
    "        'color': mags,\n",
    "        'colorscale': 'Viridis',\n",
    "        'reversescale': True,\n",
    "        'colorbar': {'title': 'Magnitude'},\n",
    "    },\n",
    "}]\n",
    "\n",
    "my_layout = Layout(title='Global Earthquakes')\n",
    "\n",
    "fig = {'data': data, 'layout': my_layout}\n",
    "offline.plot(fig, filename='data/global_earthquakes.html')\n"
   ]
  },
  {
   "cell_type": "code",
   "execution_count": null,
   "metadata": {},
   "outputs": [],
   "source": []
  }
 ],
 "metadata": {
  "kernelspec": {
   "display_name": "Python 3",
   "language": "python",
   "name": "python3"
  },
  "language_info": {
   "codemirror_mode": {
    "name": "ipython",
    "version": 3
   },
   "file_extension": ".py",
   "mimetype": "text/x-python",
   "name": "python",
   "nbconvert_exporter": "python",
   "pygments_lexer": "ipython3",
   "version": "3.7.0"
  }
 },
 "nbformat": 4,
 "nbformat_minor": 2
}
