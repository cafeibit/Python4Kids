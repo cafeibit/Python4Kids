{
 "cells": [
  {
   "cell_type": "markdown",
   "metadata": {},
   "source": [
    "## Python Data Downloading and Visual Analysis\n",
    "\n",
    ">  We’ll use GitHub’s API to request information about Python projects on the site, and then generate an interactive visualization of the relative popularity of these projects using Plotly. Projects on GitHub are stored in repositories, which contain everything associated with the project: its code, information on its collaborators, any issues or bug reports, and so on. When users on GitHub like a project, they can “star” it to show their support and keep track of projects they might want to use. In this chapter, we’ll write a program to automatically download information about the most-starred Python projects on GitHub, and then we’ll create an informative visualization of these projects. GitHub’s API lets you request a wide range of information through API calls. To see what an API call looks like, enter the following into your browser’s address bar and press enter:<code>https://api.github.com/search/repositories?q=language:python&sort=stars</code>."
   ]
  },
  {
   "cell_type": "markdown",
   "metadata": {},
   "source": [
    "### Installing Requests\n",
    ">The Requests package allows a Python program to easily request information from a website and examine the response. Use pip to install Requests:<code>$ python -m pip install --user requests</code>.\n",
    "\n",
    "### Processing an API Response\n",
    "> Now we’ll begin to write a program to automatically issue an API call and process the results by identifying the most starred Python projects on GitHub:\n",
    "\n",
    "### Working with the Response Dictionary\n",
    "> With the information from the API call stored as a dictionary, we can work with the data stored there. Let’s generate some output that summarizes the information. This is a good way to make sure we received the information we expected and to start examining the information we’re interested in:\n",
    "\n",
    "### Summarizing the Top Repositories\n",
    "> When we make a visualization for this data, we’ll want to include more than one repository. Let’s write a loop to print selected information about each repository the API call returns so we can include them all in the visualization:\n",
    "\n",
    "### Visualizing Repositories Using Plotly\n",
    "> Let’s make a visualization using the data we have now to show the relative popularity of Python projects on GitHub. We’ll make an interactive bar chart: the height of each bar will represent the number of stars the project has acquired, and you can click the bar’s label to go to that project’s home on GitHub. "
   ]
  },
  {
   "cell_type": "code",
   "execution_count": 1,
   "metadata": {},
   "outputs": [
    {
     "name": "stdout",
     "output_type": "stream",
     "text": [
      "Status code: 200\n"
     ]
    },
    {
     "data": {
      "text/plain": [
       "'data/python_repos.html'"
      ]
     },
     "execution_count": 1,
     "metadata": {},
     "output_type": "execute_result"
    }
   ],
   "source": [
    "import requests\n",
    "\n",
    "from plotly.graph_objs import Bar\n",
    "from plotly import offline\n",
    "\n",
    "# Make an API call and store the response.\n",
    "url = 'https://api.github.com/search/repositories?q=language:python&sort=stars'\n",
    "headers = {'Accept': 'application/vnd.github.v3+json'}\n",
    "r = requests.get(url, headers=headers)\n",
    "print(f\"Status code: {r.status_code}\")\n",
    "\n",
    "# Process results.\n",
    "response_dict = r.json()\n",
    "repo_dicts = response_dict['items']\n",
    "repo_links, stars, labels = [], [], []\n",
    "for repo_dict in repo_dicts:\n",
    "    repo_name = repo_dict['name']\n",
    "    repo_url = repo_dict['html_url']\n",
    "    repo_link = f\"<a href='{repo_url}'>{repo_name}</a>\"\n",
    "    repo_links.append(repo_link)\n",
    "\n",
    "    stars.append(repo_dict['stargazers_count'])\n",
    "\n",
    "    owner = repo_dict['owner']['login']\n",
    "    description = repo_dict['description']\n",
    "    label = f\"{owner}<br />{description}\"\n",
    "    labels.append(label)\n",
    "\n",
    "\n",
    "# Make visualization.\n",
    "data = [{\n",
    "    'type': 'bar',\n",
    "    'x': repo_links,\n",
    "    'y': stars,\n",
    "    'hovertext': labels,\n",
    "    'marker': {\n",
    "        'color': 'rgb(60, 100, 150)',\n",
    "        'line': {'width': 1.5, 'color': 'rgb(25, 25, 25)'}\n",
    "    },\n",
    "    'opacity': 0.6,\n",
    "}]\n",
    "\n",
    "my_layout = {\n",
    "    'title': 'Most-Starred Python Projects on GitHub',\n",
    "    'titlefont': {'size': 28},\n",
    "    'xaxis': {\n",
    "        'title': 'Repository',\n",
    "        'titlefont': {'size': 24},\n",
    "        'tickfont': {'size': 14},\n",
    "    },\n",
    "    'yaxis': {\n",
    "        'title': 'Stars',\n",
    "        'titlefont': {'size': 24},\n",
    "        'tickfont': {'size': 14},\n",
    "    },\n",
    "\n",
    "}\n",
    "\n",
    "fig = {'data': data, 'layout': my_layout}\n",
    "offline.plot(fig, filename='data/python_repos.html')\n"
   ]
  },
  {
   "cell_type": "code",
   "execution_count": null,
   "metadata": {},
   "outputs": [],
   "source": []
  }
 ],
 "metadata": {
  "kernelspec": {
   "display_name": "Python 3",
   "language": "python",
   "name": "python3"
  },
  "language_info": {
   "codemirror_mode": {
    "name": "ipython",
    "version": 3
   },
   "file_extension": ".py",
   "mimetype": "text/x-python",
   "name": "python",
   "nbconvert_exporter": "python",
   "pygments_lexer": "ipython3",
   "version": "3.7.0"
  }
 },
 "nbformat": 4,
 "nbformat_minor": 2
}
