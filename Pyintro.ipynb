{
 "cells": [
  {
   "cell_type": "markdown",
   "metadata": {},
   "source": [
    "# Python for Heidi\n",
    "## Python Introduction\n",
    "\n",
    "### 1. Why Python ?\n",
    "\n",
    "> Python is an incredibly efficient language: your programs will do more in fewer lines of code than many other languages would require. Python’s syntax will also help you write “clean” code. Your code will be easy to read, easy to debug, and easy to extend and build upon compared to other languages.People use Python for many purposes: to make games, build web applications, solve business problems, and develop internal tools at all kinds of interesting companies. Python is also used heavily in scientific fields for academic research and applied work.Also the Python community, which includes an incredibly diverse and welcoming group of people. \n",
    "\n",
    "### 2. How to learn ?\n",
    "\n",
    ">  We Think like a computer scientist. This way of thinking combines some of the best features of mathematics, engineering, and natural science. Like mathematicians, computer scientists use formal languages to denote ideas (specifically computations). Like engineers, they design things, assembling components into systems and evaluating tradeoffs among alternatives. Like scientists, they observe the behavior of complex systems, form hypotheses, and test predictions. The single most important skill for a computer scientist is problem solving. Problem solving means the ability to formulate problems, think creatively about solutions, and express a solution clearly and accurately. As it turns out, the process of learning to program is an excellent opportunity to practice problem-solving skills. \n",
    "\n",
    "### 3. What program ?\n",
    "\n",
    "> A program is a sequence of instructions that specifies how to perform a computation. The computation might be something mathematical, such as solving a system of equations or finding the roots of a polynomial, but it can also be a symbolic computa‐\n",
    "tion, such as searching and replacing text in a document or something graphical, like processing an image or playing a video.\n",
    "The details look different in different languages, but a few basic instructions appear in just about every language:\n",
    "> <ol>\n",
    "    <li>input: Get data from the keyboard, a file, the network, or some other device.</li>\n",
    "    <li>output: Display data on the screen, save it in a file, send it over the network, etc.</li>\n",
    "    <li>math: Perform basic mathematical operations like addition and multiplication.</li>\n",
    "    <li>conditional execution: Check for certain conditions and run the appropriate code.</li>\n",
    "    <li>repetition: Perform some action repeatedly, usually with some variation.</li>\n",
    "\n",
    "> So you can think of programming as the process of breaking a large, complex task into smaller and smaller subtasks until the subtasks are simple enough to be per‐ formed with one of these basic instructions.\n",
    "\n",
    "### 4. Seting up and using Python\n",
    "\n",
    "> You can download <code>Python</code> from <a href=\"https://www.python.org/\">Python.org</a>, work as Data Engineering/Scientist with <code>Anaconda</code> from <a href=\"https://www.anaconda.com/\">Anaconda</a>. And you can write your Python program by using <B>PyCharm</B> or <B>Sublime</B> or more. For example, the first program you write in a new language is called “Hello, World!”\n",
    "because all it does is display the words “Hello, World!” In Python, it looks like this:\n",
    "<code>Python\n",
    "Print(\"Hello World)\n",
    "</code>"
   ]
  },
  {
   "cell_type": "code",
   "execution_count": 2,
   "metadata": {},
   "outputs": [
    {
     "name": "stdout",
     "output_type": "stream",
     "text": [
      "Hello World\n"
     ]
    }
   ],
   "source": [
    "print(\"Hello World\")"
   ]
  },
  {
   "cell_type": "markdown",
   "metadata": {},
   "source": [
    "###  5. Python Basics\n",
    "#### 1). Variables and Data Types \n",
    "> Let’s try using a variable in hello_world.py. Add a new line at the beginning of the file, and modify the second line:\n",
    "\n",
    "``` message = \"Hello Python world!\"\n",
    "print(message)\n",
    "```\n",
    "\n",
    "> We’ve added a variable named message. Every variable is connected to a value, which is the information associated with that variable. In this case the value is the \"Hello Python world!\" text. Adding a variable makes a little more work for the Python interpreter. When it processes the first line, it associates the variable message with the \"Hello Python world!\" text. When it reaches the second line, it prints the value associated with message to the screen."
   ]
  },
  {
   "cell_type": "code",
   "execution_count": 3,
   "metadata": {},
   "outputs": [
    {
     "name": "stdout",
     "output_type": "stream",
     "text": [
      "Hello Python world!\n"
     ]
    }
   ],
   "source": [
    "message = \"Hello Python world!\"\n",
    "print(message)"
   ]
  },
  {
   "cell_type": "markdown",
   "metadata": {},
   "source": [
    "##### Naming and Using Variables\n",
    "> When you’re using variables in Python, you need to adhere to a few rules and guidelines. Breaking some of these rules will cause errors; other guidelines just help you write code that’s easier to read and understand. Be sure to keep the following variable rules in mind:\n",
    "<ol>\n",
    "    <li>Variable names can contain only letters, numbers, and underscores.They can start with a letter or an underscore, but not with a number.For instance, you can call a variable message_1 but not 1_message.</li>\n",
    "    <li>Spaces are not allowed in variable names, but underscores can be used to separate words in variable names. For example, greeting_message works, but greeting message will cause errors.</li>\n",
    "    <li>Avoid using Python keywords and function names as variable names; that is, do not use words that Python has reserved for a particular programmatic purpose, such as the word print.</li>\n",
    "    <li>Variable names should be short but descriptive. For example, name is better than n, student_name is better than s_n, and name_length is better than length_of_persons_name.</li>\n",
    "    <li>Be careful when using the lowercase letter l and the uppercase letter O because they could be confused with the numbers 1 and 0.</li>"
   ]
  },
  {
   "cell_type": "code",
   "execution_count": null,
   "metadata": {},
   "outputs": [],
   "source": []
  }
 ],
 "metadata": {
  "kernelspec": {
   "display_name": "Python 3",
   "language": "python",
   "name": "python3"
  },
  "language_info": {
   "codemirror_mode": {
    "name": "ipython",
    "version": 3
   },
   "file_extension": ".py",
   "mimetype": "text/x-python",
   "name": "python",
   "nbconvert_exporter": "python",
   "pygments_lexer": "ipython3",
   "version": "3.7.0"
  }
 },
 "nbformat": 4,
 "nbformat_minor": 2
}
