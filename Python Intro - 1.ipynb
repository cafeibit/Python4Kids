{
 "cells": [
  {
   "cell_type": "markdown",
   "metadata": {},
   "source": [
    "# Python for my girl - Books from \"Python Crash Course and Think Python\"\n",
    "## Python Introduction\n",
    "\n",
    "### 1. Why Python ?\n",
    "\n",
    "> Python is an incredibly efficient language: your programs will do more in fewer lines of code than many other languages would require. Python’s syntax will also help you write “clean” code. Your code will be easy to read, easy to debug, and easy to extend and build upon compared to other languages.People use Python for many purposes: to make games, build web applications, solve business problems, and develop internal tools at all kinds of interesting companies. Python is also used heavily in scientific fields for academic research and applied work.Also the Python community, which includes an incredibly diverse and welcoming group of people. \n",
    "\n",
    "### 2. How to learn ?\n",
    "\n",
    ">  We Think like a computer scientist. This way of thinking combines some of the best features of mathematics, engineering, and natural science. Like mathematicians, computer scientists use formal languages to denote ideas (specifically computations). Like engineers, they design things, assembling components into systems and evaluating tradeoffs among alternatives. Like scientists, they observe the behavior of complex systems, form hypotheses, and test predictions. The single most important skill for a computer scientist is problem solving. Problem solving means the ability to formulate problems, think creatively about solutions, and express a solution clearly and accurately. As it turns out, the process of learning to program is an excellent opportunity to practice problem-solving skills. \n",
    "\n",
    "### 3. What program ?\n",
    "\n",
    "> A program is a sequence of instructions that specifies how to perform a computation. The computation might be something mathematical, such as solving a system of equations or finding the roots of a polynomial, but it can also be a symbolic computa‐\n",
    "tion, such as searching and replacing text in a document or something graphical, like processing an image or playing a video.\n",
    "The details look different in different languages, but a few basic instructions appear in just about every language:\n",
    "> <ol>\n",
    "    <li>input: Get data from the keyboard, a file, the network, or some other device.</li>\n",
    "    <li>output: Display data on the screen, save it in a file, send it over the network, etc.</li>\n",
    "    <li>math: Perform basic mathematical operations like addition and multiplication.</li>\n",
    "    <li>conditional execution: Check for certain conditions and run the appropriate code.</li>\n",
    "    <li>repetition: Perform some action repeatedly, usually with some variation.</li>\n",
    "\n",
    "> So you can think of programming as the process of breaking a large, complex task into smaller and smaller subtasks until the subtasks are simple enough to be per‐ formed with one of these basic instructions.\n",
    "\n",
    "### 4. Seting up and using Python\n",
    "\n",
    "> You can download <code>Python</code> from <a href=\"https://www.python.org/\">Python.org</a>, work as Data Engineering/Scientist with <code>Anaconda</code> from <a href=\"https://www.anaconda.com/\">Anaconda</a>. And you can write your Python program by using <B>PyCharm</B> or <B>Sublime</B> or more. For example, the first program you write in a new language is called “Hello, World!”\n",
    "because all it does is display the words “Hello, World!” In Python, it looks like this:\n",
    "<code>Python\n",
    "Print(\"Hello World)\n",
    "</code>"
   ]
  },
  {
   "cell_type": "code",
   "execution_count": 2,
   "metadata": {},
   "outputs": [
    {
     "name": "stdout",
     "output_type": "stream",
     "text": [
      "Hello World\n"
     ]
    }
   ],
   "source": [
    "print(\"Hello World\")"
   ]
  },
  {
   "cell_type": "markdown",
   "metadata": {},
   "source": [
    "###  5. Python Basics\n",
    "#### 1). Variables and Data Types \n",
    "> Let’s try using a variable in hello_world.py. Add a new line at the beginning of the file, and modify the second line:\n",
    "\n",
    "``` message = \"Hello Python world!\"\n",
    "print(message)\n",
    "```\n",
    "\n",
    "> We’ve added a variable named message. Every variable is connected to a value, which is the information associated with that variable. In this case the value is the \"Hello Python world!\" text. Adding a variable makes a little more work for the Python interpreter. When it processes the first line, it associates the variable message with the \"Hello Python world!\" text. When it reaches the second line, it prints the value associated with message to the screen."
   ]
  },
  {
   "cell_type": "code",
   "execution_count": 3,
   "metadata": {},
   "outputs": [
    {
     "name": "stdout",
     "output_type": "stream",
     "text": [
      "Hello Python world!\n"
     ]
    }
   ],
   "source": [
    "message = \"Hello Python world!\"\n",
    "print(message)"
   ]
  },
  {
   "cell_type": "markdown",
   "metadata": {},
   "source": [
    "##### Naming and Using Variables\n",
    "> When you’re using variables in Python, you need to adhere to a few rules and guidelines. Breaking some of these rules will cause errors; other guidelines just help you write code that’s easier to read and understand. Be sure to keep the following variable rules in mind:\n",
    "<ol>\n",
    "    <li>Variable names can contain only letters, numbers, and underscores.They can start with a letter or an underscore, but not with a number.For instance, you can call a variable message_1 but not 1_message.</li>\n",
    "    <li>Spaces are not allowed in variable names, but underscores can be used to separate words in variable names. For example, greeting_message works, but greeting message will cause errors.</li>\n",
    "    <li>Avoid using Python keywords and function names as variable names; that is, do not use words that Python has reserved for a particular programmatic purpose, such as the word print.</li>\n",
    "    <li>Variable names should be short but descriptive. For example, name is better than n, student_name is better than s_n, and name_length is better than length_of_persons_name.</li>\n",
    "    <li>Be careful when using the lowercase letter l and the uppercase letter O because they could be confused with the numbers 1 and 0.</li>\n",
    "</ol>\n",
    "\n",
    ">Python’s keywords,the interpreter uses keywords to recognize the structure of the program, and they cannot be used as variable names. In most development environments, keywords are displayed in a different color; if you try to use one as a variable name, you’ll know. Python 3 has these keywords:\n",
    "<ul>\n",
    "    <li>False class finally is return None continue for lambda try True def from nonlocal while and del global not with</li>\n",
    "    <li>as elif if or yield assert else import pass break except in raise You don’t have to memorize this list</li>\n",
    "</ul>"
   ]
  },
  {
   "cell_type": "markdown",
   "metadata": {},
   "source": [
    "#### 2). Data Types - String\n",
    "> The first data type we’ll look at is the string. Strings are quite simple at first glance, but you can use them in many different ways.\n",
    "A string is a series of characters. Anything inside quotes is considered a string in Python, and you can use single or double quotes around your strings like this: <code>\"This is a string.\" </code> or <code> 'This is also a string.'</code>\n",
    "This flexibility allows you to use quotes and apostrophes within your strings:\n",
    "<code>'I told my friend, \"Python is my favorite language!\"'\n",
    "\"The language 'Python' is named after Monty Python, not the snake.\"\n",
    "\"One of Python's strengths is its diverse and supportive community.\"</code>\n",
    "\n",
    "<b>Changing Case in a String with Methods</b>\n",
    "> One of the simplest tasks you can do with strings is change the case of the words in a string. Look at the following code, and try to determine what’s happening: \n",
    "\n",
    "<code>name = \"ada lovelace\"\n",
    "print(name.title())\n",
    "print(name.upper())\n",
    "print(name.lower())</code>"
   ]
  },
  {
   "cell_type": "code",
   "execution_count": 8,
   "metadata": {},
   "outputs": [
    {
     "name": "stdout",
     "output_type": "stream",
     "text": [
      "Ada Lovelace\n",
      "ADA LOVELACE\n",
      "ada lovelace\n"
     ]
    }
   ],
   "source": [
    "name = \"ada lovelace\"\n",
    "print(name.title())\n",
    "print(name.upper())\n",
    "print(name.lower())"
   ]
  },
  {
   "cell_type": "markdown",
   "metadata": {},
   "source": [
    "<b>Using Variables in Strings</b>\n",
    "> In some situations, you’ll want to use a variable’s value inside a string. For example, you might want two variables to represent a first name and a last name respectively, and then want to combine those values to display someone’s full name:\n",
    "\n",
    "<code>first_name = \"ada\"\n",
    "last_name = \"lovelace\"\n",
    "full_name = f\"{first_name} {last_name}\"\n",
    "print(full_name)\n",
    "print(f\"Hello, {full_name.title()}!\")</code>\n",
    "\n",
    "<b>Adding Whitespace to Strings with Tabs or Newlines</b>\n",
    "> In programming, whitespace refers to any nonprinting character, such as spaces, tabs, and end-of-line symbols. You can use whitespace to organize your output so it’s easier for users to read.\n",
    "<i>To add a tab to your text, use the character combination <b>\\t</b> as shown</i>\n",
    "<code>print(\"Python\")\n",
    "Python\n",
    "print(\"\\tPython\")\n",
    " Python</code>\n",
    "<i>To add a newline in a string, use the character combination <b>\\n</b>:</i>\n",
    "<code>print(\"Languages:\\nPython\\nC\\nJavaScript\")\n",
    "Languages:\n",
    "Python\n",
    "C\n",
    "JavaScript</code>\n",
    "> You can also combine tabs and newlines in a single string. The string \"\\n\\t\" tells Python to move to a new line, and start the next line with a tab. The following example shows how you can use a one-line string to generate four lines of output:\n",
    "<code>print(\"Languages:\\n\\tPython\\n\\tC\\n\\tJavaScript\")\n",
    "Languages:\n",
    " Python\n",
    " C\n",
    " JavaScript </code>"
   ]
  },
  {
   "cell_type": "code",
   "execution_count": 13,
   "metadata": {},
   "outputs": [
    {
     "name": "stdout",
     "output_type": "stream",
     "text": [
      "Python\n",
      "\tPython\n",
      "Languages:\n",
      "Python\n",
      "C\n",
      "JavaScript\n",
      "\n",
      "Languages:\n",
      "\tPython\n",
      "\tC\n",
      "\tJavaScript\n"
     ]
    }
   ],
   "source": [
    "print(\"Python\")\n",
    "print(\"\\tPython\")\n",
    "print(\"Languages:\\nPython\\nC\\nJavaScript\\n\")\n",
    "print(\"Languages:\\n\\tPython\\n\\tC\\n\\tJavaScript\")"
   ]
  },
  {
   "cell_type": "markdown",
   "metadata": {},
   "source": [
    "<b>Stripping Whitespace</b>\n",
    "> Extra whitespace can be confusing in your programs. To programmers 'python' and 'python ' look pretty much the same. But to a program, they are two different strings. Python detects the extra space in 'python ' and considers it significant unless you tell it otherwise. Variables and Simple Data Types 23 It’s important to think about whitespace, because often you’ll want to\n",
    "compare two strings to determine whether they are the same. For example, one important instance might involve checking people’s usernames when they log in to a website. Extra whitespace can be confusing in much simpler situations as well. Fortunately, Python makes it easy to eliminate extraneous whitespace from data that people enter.\n",
    "<code>favorite_language = ' python '\n",
    "favorite_language.rstrip()\n",
    "' python'\n",
    "favorite_language.lstrip()\n",
    "'python '\n",
    "favorite_language.strip()\n",
    "'python' </code>\n",
    "\n",
    "<b>Avoiding Syntax Errors with Strings</b>\n",
    "> One kind of error that you might see with some regularity is a <b><i>syntax error</i></b>. A syntax error occurs when Python doesn’t recognize a section of your program as valid Python code. For example, if you use an apostrophe within single quotes, you’ll produce an error. This happens because Python interprets everything between the first single quote and the apostrophe as a string. It then tries to interpret the rest of the text as Python code, which causes errors. \n",
    "<code>\n",
    "message = \"One of Python's strengths is its diverse community.\"\n",
    "print(message)\n",
    "One of Python's strengths is its diverse community.</code>\n",
    "\n",
    "<code>message = 'One of Python's strengths is its diverse community.'\n",
    "print(message)\n",
    " File \"apostrophe.py\", line 1\n",
    " message = 'One of Python's strengths is its diverse community.'\n",
    " ^\n",
    "SyntaxError: invalid syntax </code>"
   ]
  },
  {
   "cell_type": "markdown",
   "metadata": {},
   "source": [
    "<b>String Operations</b>\n",
    "> In general, you can’t perform mathematical operations on strings, even if the strings look like numbers, so the following are illegal: '2'-'1' 'eggs'/'easy' 'third'*'a charm'\n",
    "But there are two exceptions, + and *.\n",
    "The + operator performs string concatenation, which means it joins the strings by linking them end-to-end. For example:\n",
    "<code>\n",
    "first = 'throat'\n",
    "second = 'warbler'\n",
    "first + second\n",
    "throatwarbler</code>\n",
    "\n",
    "> The * operator also works on strings; it performs repetition. For example, 'Spam'*3 is 'SpamSpamSpam'. If one of the values is a string, the other has to be an integer. This use of + and * makes sense by analogy with addition and multiplication. Just as\n",
    "4*3 is equivalent to 4+4+4, we expect 'Spam'*3 to be the same as 'Spam'+'Spam'+'Spam', and it is. On the other hand, there is a significant way in which string concatenation and repetition are different from integer addition and multiplication. Can you think of a property that addition has that string concatena‐tion does not?"
   ]
  },
  {
   "cell_type": "markdown",
   "metadata": {},
   "source": [
    "#### 2). Data Types - Number\n",
    "> Numbers are used quite often in programming to keep score in games, represent data in visualizations, store information in web applications, and so on. Python treats numbers in several different ways, depending on how they’re being used. Let’s first look at how Python manages integers, because they’re the simplest to work with.\n",
    "\n",
    "<b>Integers</b>\n",
    "\n",
    "You can add (+), subtract (-), multiply (*), and divide (/) integers in Python. \n",
    "<code>\n",
    "2 + 3 * 4\n",
    "14\n",
    "\n",
    "(2 + 3) * 4\n",
    "20</code>\n",
    "\n",
    "<b>Floats</b>\n",
    "Python calls any number with a decimal point a float. This term is used in most programming languages, and it refers to the fact that a decimal point can appear at any position in a number. Every programming language must be carefully designed to properly manage decimal numbers so numbers behave appropriately no matter where the decimal point appears.\n",
    "<code>\n",
    "0.1 + 0.1\n",
    "0.2</code>\n",
    "\n",
    "<b>Integers and Floats</b>\n",
    "When you divide any two numbers, even if they are integers that result in a whole number, you’ll always get a float:\n",
    "<code> \n",
    "4/2\n",
    "2.0</code>\n",
    "\n",
    "If you mix an integer and a float in any other operation, you’ll get a float as well:\n",
    "<code>\n",
    "1 + 2.0\n",
    "3.0</code>\n",
    "\n",
    "Python defaults to a float in any operation that uses a float, even if the output is a whole number. \n",
    "\n",
    "<b>Underscores in Numbers</b>\n",
    "\n",
    "When you’re writing long numbers, you can group digits using underscores to make large numbers more readable:\n",
    "<code>\n",
    "universe_age = 14_000_000_000\n",
    "print(universe_age)\n",
    "14000000000</code>\n",
    "\n",
    "<b>Multiple Assignment</b>\n",
    "\n",
    "You can assign values to more than one variable using just a single line.This can help shorten your programs and make them easier to read; you’ll use this technique most often when initializing a set of numbers. For example, here’s how you can initialize the variables x, y, and z to zero:\n",
    "\n",
    "<code>x, y, z = 0, 0, 0</code>\n",
    "\n",
    "<b>Constants</b>\n",
    "\n",
    "A constant is like a variable whose value stays the same throughout the life of a program. Python doesn’t have built-in constant types, but Python programmers use all capital letters to indicate a variable should be treated as a constant and never be changed:\n",
    "\n",
    "<code>MAX_CONNECTIONS = 5000</code>\n",
    "\n",
    "When you want to treat a variable as a constant in your code, make the name of the variable all capital letters."
   ]
  },
  {
   "cell_type": "markdown",
   "metadata": {},
   "source": [
    "<b>Order of Operations</b>\n",
    "> When an expression contains more than one operator, the order of evaluation depends on the order of operations. For mathematical operators, Python follows mathematical convention. The acronym PEMDAS is a useful way to remember the\n",
    "rules:\n",
    "<ul>\n",
    "    <li>Parentheses have the highest precedence and can be used to force an expression to evaluate in the order you want. Since expressions in parentheses are evaluated first, 2 * (3-1) is 4, and (1+1)**(5-2) is 8. You can also use parentheses to make an expression easier to read, as in (minute * 100) / 60, even if it doesn’t change the result.</li>\n",
    "    <li>Exponentiation has the next highest precedence, so 1 + 2**3 is 9, not 27, and 2* 3**2 is 18, not 36.</li>\n",
    "    <li>Multiplication and Division have higher precedence than Addition and Subtrac‐tion. So 2*3-1 is 5, not 4, and 6+4/2 is 8, not 5.</li>\n",
    "    <li>Operators with the same precedence are evaluated from left to right (except exponentiation). So in the expression degrees / 2 * pi, the division happens first and the result is multiplied by pi. To divide by 2π, you can use parentheses or write degrees / 2 / pi.</li>\n",
    "</ul>"
   ]
  },
  {
   "cell_type": "code",
   "execution_count": null,
   "metadata": {},
   "outputs": [],
   "source": []
  },
  {
   "cell_type": "markdown",
   "metadata": {},
   "source": [
    "<b>Comments (# or ''')</b>\n",
    "\n",
    "> Comments are an extremely useful feature in most programming languages. Everything you’ve written in your programs so far is Python code. As your programs become longer and more complicated, you should add notes within your programs that describe your overall approach to the problem you’re solving. A comment allows you to write notes in English within your programs.\n",
    "\n",
    "<code># Say hello to everyone.\n",
    "print(\"Hello Python people!\")</code>\n",
    "\n",
    "> The main reason to write comments is to explain what your code is supposed to do and how you are making it work. When you’re in the middle of working on a project, you understand how all of the pieces fit together. But when you return to a project after some time away, you’ll likely have forgotten some of the details. You can always study your code for a while and figure\n",
    "out how segments were supposed to work, but writing good comments can save you time by summarizing your overall approach in clear English. If you want to become a professional programmer or collaborate with other programmers, you should write meaningful comments. Today, most software is written collaboratively, whether by a group of employees at one\n",
    "company or a group of people working together on an open source project. Skilled programmers expect to see comments in code, so it’s best to start adding descriptive comments to your programs now. <b><i>Writing clear, concise comments</i></b> in your code is one of the most beneficial habits you can form as a new programmer."
   ]
  },
  {
   "cell_type": "code",
   "execution_count": null,
   "metadata": {},
   "outputs": [],
   "source": []
  },
  {
   "cell_type": "code",
   "execution_count": 1,
   "metadata": {},
   "outputs": [
    {
     "name": "stdout",
     "output_type": "stream",
     "text": [
      "The Zen of Python, by Tim Peters\n",
      "\n",
      "Beautiful is better than ugly.\n",
      "Explicit is better than implicit.\n",
      "Simple is better than complex.\n",
      "Complex is better than complicated.\n",
      "Flat is better than nested.\n",
      "Sparse is better than dense.\n",
      "Readability counts.\n",
      "Special cases aren't special enough to break the rules.\n",
      "Although practicality beats purity.\n",
      "Errors should never pass silently.\n",
      "Unless explicitly silenced.\n",
      "In the face of ambiguity, refuse the temptation to guess.\n",
      "There should be one-- and preferably only one --obvious way to do it.\n",
      "Although that way may not be obvious at first unless you're Dutch.\n",
      "Now is better than never.\n",
      "Although never is often better than *right* now.\n",
      "If the implementation is hard to explain, it's a bad idea.\n",
      "If the implementation is easy to explain, it may be a good idea.\n",
      "Namespaces are one honking great idea -- let's do more of those!\n"
     ]
    }
   ],
   "source": [
    "import this"
   ]
  },
  {
   "cell_type": "code",
   "execution_count": null,
   "metadata": {},
   "outputs": [],
   "source": []
  }
 ],
 "metadata": {
  "kernelspec": {
   "display_name": "Python 3",
   "language": "python",
   "name": "python3"
  },
  "language_info": {
   "codemirror_mode": {
    "name": "ipython",
    "version": 3
   },
   "file_extension": ".py",
   "mimetype": "text/x-python",
   "name": "python",
   "nbconvert_exporter": "python",
   "pygments_lexer": "ipython3",
   "version": "3.7.0"
  }
 },
 "nbformat": 4,
 "nbformat_minor": 2
}
