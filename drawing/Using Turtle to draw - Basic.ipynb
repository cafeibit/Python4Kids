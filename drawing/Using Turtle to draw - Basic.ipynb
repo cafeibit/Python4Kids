{
 "cells": [
  {
   "cell_type": "markdown",
   "metadata": {},
   "source": [
    "## Using Turtle to Draw\n",
    "\n",
    "> The Python turtle module allows you to create images by using turtle graphics. You can find more information from <a href=\"https://docs.python.org/3.3/library/turtle.html\">Python Tutle</a>. Turtle graphics is a popular way for introducing programming to kids. It was part of the original Logo programming language developed by Wally Feurzig and Seymour Papert in 1966. Imagine a robotic turtle starting at (0, 0) in the x-y plane. After an <code>import turtle</code>, give it the command <code>turtle.forward(15)</code>, and it moves (on-screen!) 15 pixels in the direction it is facing, drawing a line as it moves. Give it the command <code>turtle.right(25)</code>, and it rotates in-place 25 degrees clockwise. By combining together these and similar commands, intricate shapes and pictures can easily be drawn. The turtle module provides turtle graphics primitives, in both object-oriented and procedure-oriented ways. Because it uses tkinter for the underlying graphics, it needs a version of Python installed with Tk support. The procedural interface provides functions which are derived from the methods of the classes <b>Screen and Turtle</b>. They have the same names as the corresponding methods. A screen object is automatically created whenever a function derived from a Screen method is called. An (unnamed) turtle object is automatically created whenever any of the functions derived from a Turtle method is called. To use multiple turtles on a screen one has to use the object-oriented interface."
   ]
  },
  {
   "cell_type": "code",
   "execution_count": 1,
   "metadata": {},
   "outputs": [
    {
     "name": "stdout",
     "output_type": "stream",
     "text": [
      "<turtle.Turtle object at 0x0000018FA0907CF8>\n"
     ]
    }
   ],
   "source": [
    "# Create a file and import turtle module\n",
    "import turtle\n",
    "\n",
    "# The turtle module provides a function called Turtle and creates a Turtle object\n",
    "bob = turtle.Turtle()\n",
    "print(bob)\n",
    "\n",
    "# To draw a square\n",
    "bob.fd(100)\n",
    "bob.lt(90)\n",
    "\n",
    "bob.fd(100)\n",
    "bob.lt(90)\n",
    "\n",
    "bob.fd(100)\n",
    "bob.lt(90)\n",
    "\n",
    "bob.fd(100)\n",
    "\n",
    "# The mainloop tells the window to wait for the user to do something\n",
    "turtle.mainloop()"
   ]
  },
  {
   "cell_type": "markdown",
   "metadata": {},
   "source": [
    "> Once you create a Turtle, you can call a method to move it around the window. A method is similar to a function, but it uses slightly different syntax. For example, to move the turtle forward: <code>bob.fd(100)</code> The method, <b>fd</b>, is associated with the turtle object we’re calling bob. Calling a method is like making a request: you are asking bob to move forward. The argument of fd is a distance in pixels, so the actual size depends on your display. Other methods you can call on a Turtle are <b>bk</b> to move backward, <b>lt</b> for left turn, and <b>rt</b> right turn. The argument for lt and rt is an angle in degrees.\n",
    "Also, each Turtle is holding a pen, which is either down or up; if the pen is down, the Turtle leaves a trail when it moves. The methods <b>pu</b> and <b>pd</b> stand for “pen up” and “pen down”.\n",
    "\n",
    "let you rewrite your square-drawing program. \n",
    "<code>\n",
    "for i in range(4):\n",
    "    bob.fd(100)\n",
    "    bob.lt(90)\n",
    "</code>\n",
    "\n",
    "The syntax of a <b>for</b> statement is similar to a function definition. It has a header that ends with a colon and an indented body. The body can contain any number of statements. A for statement is also called a loop because the flow of execution runs through the body and then loops back to the top. In this case, it runs the body four times. This version is actually a little different from the previous square-drawing code because it makes another turn after drawing the last side of the square. The extra turn\n",
    "takes more time, but it simplifies the code if we do the same thing every time through the loop. This version also has the effect of leaving the turtle back in the starting position, facing in the starting direction."
   ]
  },
  {
   "cell_type": "code",
   "execution_count": null,
   "metadata": {},
   "outputs": [],
   "source": [
    "# Create a file and import turtle module\n",
    "import turtle\n",
    "\n",
    "# The turtle module provides a function called Turtle and creates a Turtle object\n",
    "bob = turtle.Turtle()\n",
    "print(bob)\n",
    "\n",
    "# To draw a square\n",
    "for i in range(4):\n",
    "    bob.fd(100)\n",
    "    bob.lt(90)\n",
    "\n",
    "# The mainloop tells the window to wait for the user to do something\n",
    "turtle.mainloop()"
   ]
  },
  {
   "cell_type": "markdown",
   "metadata": {},
   "source": [
    "### Encapsulation\n",
    "> Put your square-drawing code into a function definition and then call the function, passing the turtle as a parameter. The innermost statements, fd and lt, are indented twice to show that they are inside the for loop, which is inside the function definition. The next line, square(bob), is flush with the left margin, which indicates the end of both the for loop and the function definition. Inside the function, t refers to the same turtle bob, so t.lt(90) has the same effect as <code>bob.lt(90)</code>. In that case, why not call the parameter bob? The idea is that t can be any turtle, not just bob, so you could create a second turtle and pass it as an argument to square:\n",
    "<code>\n",
    "alice = Turtle()\n",
    "square(alice)</code>\n",
    "\n",
    "Wrapping a piece of code up in a function is called <b>encapsulation</b>. One of the benefits of encapsulation is that it attaches a name to the code, which serves as a kind of documentation. Another advantage is that if you reuse the code, it is more concise to call a function twice than to copy and paste the body!\n",
    "\n",
    "### Generalization\n",
    "The next step is to add a length parameter to square. Here is a solution:\n",
    "<code>\n",
    "def square(t, length):\n",
    "    for i in range(4):\n",
    "    t.fd(length)\n",
    "    t.lt(90)\n",
    "square(bob, 100)</code>\n",
    "\n",
    "Adding a parameter to a function is called <b>generalization</b> because it makes the function more general: in the previous version, the square is always the same size; in this version it can be any size. The next step is also a generalization. Instead of drawing squares, polygon draws regular polygons with any number of sides. Here is a solution:\n",
    "\n",
    "<code>\n",
    "def polygon(t, n, length):\n",
    "    angle = 360 / n\n",
    "    for i in range(n):\n",
    "    t.fd(length)\n",
    "    t.lt(angle)\n",
    "polygon(bob, 7, 70)</code>\n",
    "\n",
    "This example draws a 7-sided polygon with side length 70. When a function has more than a few numeric arguments, it is easy to forget what they are, or what order they should be in. In that case it is often a good idea to include the names of the parameters in the argument list:<code>polygon(bob, n=7, length=70)</code>\n",
    "These are called keyword arguments because they include the parameter names as “keywords” (not to be confused with Python keywords like while and def). This syntax makes the program more readable. It is also a reminder about how arguments and parameters work: when you call a function, the arguments are assigned to the parameters."
   ]
  },
  {
   "cell_type": "code",
   "execution_count": 2,
   "metadata": {},
   "outputs": [
    {
     "name": "stdout",
     "output_type": "stream",
     "text": [
      "What numbers of polygon do you like to draw?3\n",
      "How about length for each side of polygon?100\n"
     ]
    }
   ],
   "source": [
    "import turtle\n",
    "\n",
    "# The turtle module provides a function called Turtle and creates a Turtle object\n",
    "bob = turtle.Turtle()\n",
    "\n",
    "# You can create any shade polygon as input\n",
    "number_sides = int(input(\"How many sides of polygon do you like to draw? \"))\n",
    "length_side = int(input(\"How about length for each side of polygon? \"))\n",
    "\n",
    "def polygon(t, n, length):\n",
    "    angle = 360 / n\n",
    "    for i in range(n):\n",
    "        t.fd(length)\n",
    "        t.lt(angle)\n",
    "\n",
    "polygon(bob,n=number_sides, length=length_side)\n",
    "\n",
    "# The mainloop tells the window to wait for the user to do something\n",
    "turtle.mainloop()"
   ]
  },
  {
   "cell_type": "markdown",
   "metadata": {},
   "source": [
    "### Interface Design\n",
    "> The next step is to write circle, which takes a radius, r, as a parameter. The code need to compute the circumference of a circle with radius r using the formula <b>2πr</b>. Since we use math.pi, we have to import math. By convention, import statements are usually at the beginning of the script. n is the number of line segments in our approximation of a circle, so length is the length of each segment. Thus, polygon draws a 50-sided polygon that approximates a circle with radius r. One limitation of this solution is that n is a constant, which means that for very big circles, the line segments are too long, and for small circles, we waste time drawing very small segments. One solution would be to generalize the function by taking n as a parameter. This would give the user (whoever calls circle) more control, but the interface would be less clean. \n",
    "\n",
    "The <b>interface</b> of a function is a summary of how it is used: what are the parameters? What does the function do? And what is the return value? An interface is “clean” if it allows the caller to do what they want without dealing with unnecessary details. In this example, r belongs in the interface because it specifies the circle to be drawn. n is less appropriate because it pertains to the details of how the circle should be rendered. Rather than clutter up the interface, it is better to choose an appropriate value of n depending on circumference:\n",
    "<code>\n",
    "def circle(t, r):\n",
    "    circumference = 2 * math.pi * r\n",
    "    n = int(circumference / 3) + 1\n",
    "    length = circumference / n\n",
    "    polygon(t, n, length)</code>\n",
    " \n",
    "Now the number of segments is an integer near circumference/3, so the length of each segment is approximately 3, which is small enough that the circles look good, but big enough to be efficient, and acceptable for any size circle.\n",
    "\n",
    "### Refactoring\n",
    "> When you wrote circle, you are able to reuse polygon because a many-sided polygon is a good approximation of a circle. But arc is not as cooperative; we can’t use polygon or circle to draw an arc. One alternative is to start with a copy of polygon and transform it into arc. The result might look like this:\n",
    "<code>\n",
    "def arc(t, r, angle):\n",
    "    arc_length = 2 * math.pi * r * angle / 360\n",
    "    n = int(arc_length / 3) + 1\n",
    "    step_length = arc_length / n\n",
    "    step_angle = angle / n\n",
    "    for i in range(n):\n",
    "        t.fd(step_length)\n",
    "        t.lt(step_angle)</code>\n",
    "        \n",
    "The second half of this function looks like polygon, but we can’t reuse polygon without changing the interface. We could generalize polygon to take an angle as a third argument, but then polygon would no longer be an appropriate name! Instead,\n",
    "let’s call the more general function polyline:\n",
    "\n",
    "<code>\n",
    "def polyline(t, n, length, angle):\n",
    "    for i in range(n):\n",
    "    t.fd(length)\n",
    "    t.lt(angle)</code>\n",
    "    \n",
    "Now we can rewrite polygon and arc to use polyline:\n",
    "\n",
    "<code>\n",
    "def polygon(t, n, length):\n",
    "    angle = 360.0 / n\n",
    "    polyline(t, n, length, angle)\n",
    "def arc(t, r, angle):\n",
    "    arc_length = 2 * math.pi * r * angle / 360\n",
    "    n = int(arc_length / 3) + 1\n",
    "    step_length = arc_length / n\n",
    "    step_angle = float(angle) / n\n",
    "    polyline(t, n, step_length, step_angle)</code>\n",
    "\n",
    "Finally, we can rewrite circle to use arc:\n",
    "<code>\n",
    "def circle(t, r):\n",
    "    arc(t, r, 360)</code>\n",
    "    \n",
    "This process—rearranging a program to improve interfaces and facilitate code reuse is called <b>refactoring</b>. In this case, we noticed that there was similar code in arc and polygon, so we “factored it out” into polyline. If we had planned ahead, we might have written polyline first and avoided refactoring, but often you don’t know enough at the beginning of a project to design all the interfaces. Once you start coding, you understand the problem better. Sometimes refactoring is a sign that you have learned something.\n"
   ]
  },
  {
   "cell_type": "markdown",
   "metadata": {},
   "source": [
    "### A Development Plan\n",
    "> A development plan is a process for writing programs. The process we used in this case study is “encapsulation and generalization”. The steps of this process are:\n",
    "1. Start by writing a small program with no function definitions.\n",
    "2. Once you get the program working, identify a coherent piece of it, encapsulate\n",
    "the piece in a function and give it a name.\n",
    "3. Generalize the function by adding appropriate parameters.\n",
    "4. Repeat steps 1–3 until you have a set of working functions. Copy and paste working code to avoid retyping (and re-debugging).\n",
    "5. Look for opportunities to improve the program by refactoring. \n",
    "\n",
    "For example, if you have similar code in several places, consider factoring it into an appropriately general function. This process has some drawbacks—we will see alternatives later—but it can be useful if you don’t know ahead of time how to divide the program into functions. This approach lets you design as you go along.\n",
    "\n",
    "### docstring\n",
    "> A docstring is a string at the beginning of a function that explains the interface (“doc” is short for “documentation”).By convention, all docstrings are triple-quoted strings, also known as multiline strings because the triple quotes allow the string to span more than one line. It is terse, but it contains the essential information someone would need to use this function. It explains concisely what the function does (without getting into the details of how it does it). It explains what effect each parameter has on the behavior of the function and what type each parameter should be (if it is not obvious). Writing this kind of documentation is an important part of interface design. A welldesigned interface should be simple to explain; if you have a hard time explaining one of your functions, maybe the interface could be improved.\n",
    "\n",
    "### Debugging\n",
    "> An interface is like a contract between a function and a caller. The caller agrees to provide certain parameters and the function agrees to do certain work. For example, polyline requires four arguments: t has to be a Turtle; n has to be an\n",
    "integer; length should be a positive number; and angle has to be a number, which is understood to be in degrees. These requirements are called preconditions because they are supposed to be true before the function starts executing. Conversely, conditions at the end of the function are postconditions. Postconditions include the intended effect of the function (like\n",
    "drawing line segments) and any side effects (like moving the Turtle or making other changes).\n",
    "Preconditions are the responsibility of the caller. If the caller violates a (properly documented!) precondition and the function doesn’t work correctly, the bug is in the caller, not the function. If the preconditions are satisfied and the postconditions are not, the bug is in the function. If your pre- and postconditions are clear, they can help with debugging."
   ]
  },
  {
   "cell_type": "code",
   "execution_count": 2,
   "metadata": {},
   "outputs": [
    {
     "name": "stdout",
     "output_type": "stream",
     "text": [
      "How about radius for circle? 110\n"
     ]
    }
   ],
   "source": [
    "import turtle\n",
    "import math\n",
    "\n",
    "# The turtle module provides a function called Turtle and creates a Turtle object\n",
    "bob = turtle.Turtle()\n",
    "\n",
    "# You can dram any size of circle as your input\n",
    "radius = int(input(\"How about radius for circle? \"))\n",
    "\n",
    "# You can dram any size of polyline as your input\n",
    "def polyline(t, n, length, angle):\n",
    "    \"\"\"Draws n line segments with the given length and\n",
    "    angle (in degrees) between them. t is a turtle.\n",
    "    \"\"\"\n",
    "    for i in range(n):\n",
    "        t.fd(length)\n",
    "        t.lt(angle)\n",
    "\n",
    "# You can dram any shade of polygon as your input\n",
    "def polygon(t, n, length):\n",
    "    angle = 360.0 / n\n",
    "    polyline(t, n, length, angle)\n",
    "\n",
    "# You can dram any size of arc as your input\n",
    "def arc(t, r, angle):\n",
    "    arc_length = 2 * math.pi * r * angle / 360\n",
    "    n = int(arc_length / 3) + 1\n",
    "    step_length = arc_length / n\n",
    "    step_angle = float(angle) / n\n",
    "    polyline(t, n, step_length, step_angle)\n",
    "\n",
    "def circle(t, r):\n",
    "    arc(t, r, 360)\n",
    "    \n",
    "circle(bob, radius)\n",
    "\n",
    "# The mainloop tells the window to wait for the user to do something\n",
    "turtle.mainloop()"
   ]
  },
  {
   "cell_type": "markdown",
   "metadata": {},
   "source": [
    "### Glossary\n",
    "> \n",
    "<b>method:</b>\n",
    "A function that is associated with an object and called using dot notation.\n",
    "\n",
    "<b>loop:</b>\n",
    "A part of a program that can run repeatedly.\n",
    "\n",
    "<b>encapsulation:</b>\n",
    "The process of transforming a sequence of statements into a function definition.\n",
    "\n",
    "<b>generalization:</b>\n",
    "The process of replacing something unnecessarily specific (like a number) with something appropriately general (like a variable or parameter).\n",
    "\n",
    "<b>keyword argument:</b>\n",
    "An argument that includes the name of the parameter as a “keyword”.\n",
    "\n",
    "<b>interface:</b>\n",
    "A description of how to use a function, including the name and descriptions of the arguments and return value.\n",
    "\n",
    "<b>refactoring:</b>\n",
    "The process of modifying a working program to improve function interfaces and other qualities of the code.\n",
    "\n",
    "<b>development plan:</b>\n",
    "A process for writing programs.\n",
    "\n",
    "<b>docstring:</b>\n",
    "A string that appears at the top of a function definition to document the function’s interface.\n",
    "\n",
    "<b>precondition:</b>\n",
    "A requirement that should be satisfied by the caller before a function starts.\n",
    "\n",
    "<b>postcondition:</b>\n",
    "A requirement that should be satisfied by the function before it ends."
   ]
  },
  {
   "cell_type": "code",
   "execution_count": null,
   "metadata": {},
   "outputs": [],
   "source": []
  }
 ],
 "metadata": {
  "kernelspec": {
   "display_name": "Python 3",
   "language": "python",
   "name": "python3"
  },
  "language_info": {
   "codemirror_mode": {
    "name": "ipython",
    "version": 3
   },
   "file_extension": ".py",
   "mimetype": "text/x-python",
   "name": "python",
   "nbconvert_exporter": "python",
   "pygments_lexer": "ipython3",
   "version": "3.7.0"
  }
 },
 "nbformat": 4,
 "nbformat_minor": 2
}
